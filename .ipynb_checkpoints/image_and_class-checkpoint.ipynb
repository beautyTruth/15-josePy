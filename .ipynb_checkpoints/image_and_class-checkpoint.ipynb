{
 "cells": [
  {
   "cell_type": "code",
   "execution_count": 1,
   "id": "1caa9f50",
   "metadata": {},
   "outputs": [],
   "source": [
    "import requests"
   ]
  },
  {
   "cell_type": "code",
   "execution_count": 2,
   "id": "6ea3f32e",
   "metadata": {},
   "outputs": [],
   "source": [
    "import bs4"
   ]
  },
  {
   "cell_type": "code",
   "execution_count": 3,
   "id": "e1ed8808",
   "metadata": {},
   "outputs": [],
   "source": [
    "peach = requests.get('https://en.wikipedia.org/wiki/Grace_Hopper')"
   ]
  },
  {
   "cell_type": "code",
   "execution_count": 4,
   "id": "19a24d6a",
   "metadata": {},
   "outputs": [],
   "source": [
    "stew = bs4.BeautifulSoup(peach.text,\"lxml\")"
   ]
  },
  {
   "cell_type": "code",
   "execution_count": 6,
   "id": "806db626",
   "metadata": {},
   "outputs": [],
   "source": [
    "# stew"
   ]
  },
  {
   "cell_type": "code",
   "execution_count": 9,
   "id": "26f7f6db",
   "metadata": {},
   "outputs": [
    {
     "data": {
      "text/plain": [
       "[<div class=\"vector-toc-text\">(Top)</div>,\n",
       " <div class=\"vector-toc-text\">\n",
       " <span class=\"vector-toc-numb\">1</span>Early life and education</div>,\n",
       " <div class=\"vector-toc-text\">\n",
       " <span class=\"vector-toc-numb\">2</span>Career</div>,\n",
       " <div class=\"vector-toc-text\">\n",
       " <span class=\"vector-toc-numb\">2.1</span>World War II</div>,\n",
       " <div class=\"vector-toc-text\">\n",
       " <span class=\"vector-toc-numb\">2.2</span>UNIVAC</div>,\n",
       " <div class=\"vector-toc-text\">\n",
       " <span class=\"vector-toc-numb\">2.3</span>COBOL</div>,\n",
       " <div class=\"vector-toc-text\">\n",
       " <span class=\"vector-toc-numb\">2.4</span>Standards</div>,\n",
       " <div class=\"vector-toc-text\">\n",
       " <span class=\"vector-toc-numb\">3</span>Retirement</div>,\n",
       " <div class=\"vector-toc-text\">\n",
       " <span class=\"vector-toc-numb\">4</span>Post-retirement</div>,\n",
       " <div class=\"vector-toc-text\">\n",
       " <span class=\"vector-toc-numb\">5</span>Anecdotes</div>,\n",
       " <div class=\"vector-toc-text\">\n",
       " <span class=\"vector-toc-numb\">6</span>Death</div>,\n",
       " <div class=\"vector-toc-text\">\n",
       " <span class=\"vector-toc-numb\">7</span>Dates of rank</div>,\n",
       " <div class=\"vector-toc-text\">\n",
       " <span class=\"vector-toc-numb\">8</span>Awards and honors</div>,\n",
       " <div class=\"vector-toc-text\">\n",
       " <span class=\"vector-toc-numb\">8.1</span>Military awards</div>,\n",
       " <div class=\"vector-toc-text\">\n",
       " <span class=\"vector-toc-numb\">8.2</span>Other awards</div>,\n",
       " <div class=\"vector-toc-text\">\n",
       " <span class=\"vector-toc-numb\">9</span>Legacy</div>,\n",
       " <div class=\"vector-toc-text\">\n",
       " <span class=\"vector-toc-numb\">9.1</span>Places</div>,\n",
       " <div class=\"vector-toc-text\">\n",
       " <span class=\"vector-toc-numb\">9.2</span>Programs</div>,\n",
       " <div class=\"vector-toc-text\">\n",
       " <span class=\"vector-toc-numb\">9.3</span>In popular culture</div>,\n",
       " <div class=\"vector-toc-text\">\n",
       " <span class=\"vector-toc-numb\">9.3.1</span>Grace Hopper Celebration of Women in Computing</div>,\n",
       " <div class=\"vector-toc-text\">\n",
       " <span class=\"vector-toc-numb\">10</span>See also</div>,\n",
       " <div class=\"vector-toc-text\">\n",
       " <span class=\"vector-toc-numb\">11</span>Notes</div>,\n",
       " <div class=\"vector-toc-text\">\n",
       " <span class=\"vector-toc-numb\">12</span>References</div>,\n",
       " <div class=\"vector-toc-text\">\n",
       " <span class=\"vector-toc-numb\">13</span>Obituary notices</div>,\n",
       " <div class=\"vector-toc-text\">\n",
       " <span class=\"vector-toc-numb\">14</span>Further reading</div>,\n",
       " <div class=\"vector-toc-text\">\n",
       " <span class=\"vector-toc-numb\">15</span>External links</div>]"
      ]
     },
     "execution_count": 9,
     "metadata": {},
     "output_type": "execute_result"
    }
   ],
   "source": [
    "stew.select(\".vector-toc-text\")"
   ]
  },
  {
   "cell_type": "code",
   "execution_count": 10,
   "id": "f14317ad",
   "metadata": {},
   "outputs": [],
   "source": [
    "first_item = stew.select(\".vector-toc-text\")[0]"
   ]
  },
  {
   "cell_type": "code",
   "execution_count": 11,
   "id": "4ec455f7",
   "metadata": {},
   "outputs": [
    {
     "data": {
      "text/plain": [
       "<div class=\"vector-toc-text\">(Top)</div>"
      ]
     },
     "execution_count": 11,
     "metadata": {},
     "output_type": "execute_result"
    }
   ],
   "source": [
    "first_item"
   ]
  },
  {
   "cell_type": "code",
   "execution_count": 12,
   "id": "b826e61a",
   "metadata": {},
   "outputs": [
    {
     "data": {
      "text/plain": [
       "'(Top)'"
      ]
     },
     "execution_count": 12,
     "metadata": {},
     "output_type": "execute_result"
    }
   ],
   "source": [
    "first_item.text"
   ]
  },
  {
   "cell_type": "code",
   "execution_count": 27,
   "id": "8542e564",
   "metadata": {},
   "outputs": [
    {
     "name": "stdout",
     "output_type": "stream",
     "text": [
      "(Top)\n",
      "\n",
      "1Early life and education\n",
      "\n",
      "2Career\n",
      "\n",
      "2.1World War II\n",
      "\n",
      "2.2UNIVAC\n",
      "\n",
      "2.3COBOL\n",
      "\n",
      "2.4Standards\n",
      "\n",
      "3Retirement\n",
      "\n",
      "4Post-retirement\n",
      "\n",
      "5Anecdotes\n",
      "\n",
      "6Death\n",
      "\n",
      "7Dates of rank\n",
      "\n",
      "8Awards and honors\n",
      "\n",
      "8.1Military awards\n",
      "\n",
      "8.2Other awards\n",
      "\n",
      "9Legacy\n",
      "\n",
      "9.1Places\n",
      "\n",
      "9.2Programs\n",
      "\n",
      "9.3In popular culture\n",
      "\n",
      "9.3.1Grace Hopper Celebration of Women in Computing\n",
      "\n",
      "10See also\n",
      "\n",
      "11Notes\n",
      "\n",
      "12References\n",
      "\n",
      "13Obituary notices\n",
      "\n",
      "14Further reading\n",
      "\n",
      "15External links\n"
     ]
    }
   ],
   "source": [
    "for fluffy in stew.select('.vector-toc-text'):\n",
    "    print(fluffy.text)"
   ]
  },
  {
   "cell_type": "code",
   "execution_count": null,
   "id": "22d7a16f",
   "metadata": {},
   "outputs": [],
   "source": []
  }
 ],
 "metadata": {
  "kernelspec": {
   "display_name": "Python 3 (ipykernel)",
   "language": "python",
   "name": "python3"
  },
  "language_info": {
   "codemirror_mode": {
    "name": "ipython",
    "version": 3
   },
   "file_extension": ".py",
   "mimetype": "text/x-python",
   "name": "python",
   "nbconvert_exporter": "python",
   "pygments_lexer": "ipython3",
   "version": "3.11.3"
  }
 },
 "nbformat": 4,
 "nbformat_minor": 5
}
